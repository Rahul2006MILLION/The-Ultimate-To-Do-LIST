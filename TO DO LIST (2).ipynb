{
 "cells": [
  {
   "cell_type": "code",
   "execution_count": 8,
   "id": "070c5ec9-80de-42fe-a365-3ac2444f4df9",
   "metadata": {},
   "outputs": [
    {
     "name": "stdout",
     "output_type": "stream",
     "text": [
      "To Do List!!\n",
      "Type 1 to Add To the List📄\n",
      "Type 2 to View your To Do List👀\n",
      "Type 3 to Delete some particular To-do Work🗑️\n",
      "Type 4 to Mark the completed To's✅\n",
      "Type 5 to Add To the To-Do List➕\n",
      "Type 6 to Exit❌\n"
     ]
    },
    {
     "name": "stdin",
     "output_type": "stream",
     "text": [
      "Enter Type for To-Do from the following or 0 to again see the operation:  1\n"
     ]
    },
    {
     "name": "stdout",
     "output_type": "stream",
     "text": [
      "...TO-DO LIST...\n"
     ]
    },
    {
     "name": "stdin",
     "output_type": "stream",
     "text": [
      "Enter the Number of Work you want to Complete:  3\n",
      "Enter To-Do Works 1:  Wash Clothes\n",
      "Enter To-Do Works 2:  Bring Veggies\n",
      "Enter To-Do Works 3:  Exercise\n"
     ]
    },
    {
     "name": "stdout",
     "output_type": "stream",
     "text": [
      "To-Do List Done✅\n",
      "------------------------------------------------------------------------\n"
     ]
    },
    {
     "name": "stdin",
     "output_type": "stream",
     "text": [
      "Enter Type for To-Do from the following or 0 to again see the operation:  5\n",
      "Enter the Number of To-Do You want to ADD:  3\n",
      "Enter the To do 1:  Learn Python\n",
      "Enter the To do 2:  Call John\n",
      "Enter the To do 3:  Repair MotorBike\n"
     ]
    },
    {
     "name": "stdout",
     "output_type": "stream",
     "text": [
      "1.Wash Clothes\n",
      "------------------------------------------------------------------------\n",
      "2.Bring Veggies\n",
      "------------------------------------------------------------------------\n",
      "3.Exercise\n",
      "------------------------------------------------------------------------\n",
      "4.Learn Python\n",
      "------------------------------------------------------------------------\n",
      "5.Call John\n",
      "------------------------------------------------------------------------\n",
      "6.Repair MotorBike\n",
      "------------------------------------------------------------------------\n"
     ]
    },
    {
     "name": "stdin",
     "output_type": "stream",
     "text": [
      "Enter Type for To-Do from the following or 0 to again see the operation:  3\n",
      "Enter the Line of Todo to delete:  3\n"
     ]
    },
    {
     "name": "stdout",
     "output_type": "stream",
     "text": [
      "Your CURRENT TO-DO LIST...\n",
      "1.Wash Clothes\n",
      "------------------------------------------------------------------------\n",
      "2.Bring Veggies\n",
      "------------------------------------------------------------------------\n",
      "3.Learn Python\n",
      "------------------------------------------------------------------------\n",
      "4.Call John\n",
      "------------------------------------------------------------------------\n",
      "5.Repair MotorBike\n",
      "------------------------------------------------------------------------\n"
     ]
    },
    {
     "name": "stdin",
     "output_type": "stream",
     "text": [
      "Enter Type for To-Do from the following or 0 to again see the operation:  4\n",
      "Enter the Completed To-Do:  2\n"
     ]
    },
    {
     "name": "stdout",
     "output_type": "stream",
     "text": [
      "Completed Task:✅ \n",
      "Bring Veggies\n",
      "\n",
      "Remaining List: \n",
      "1.Wash Clothes\n",
      "------------------------------------------------------------------------\n",
      "2.Learn Python\n",
      "------------------------------------------------------------------------\n",
      "3.Call John\n",
      "------------------------------------------------------------------------\n",
      "4.Repair MotorBike\n",
      "------------------------------------------------------------------------\n"
     ]
    },
    {
     "name": "stdin",
     "output_type": "stream",
     "text": [
      "Enter Type for To-Do from the following or 0 to again see the operation:  8\n"
     ]
    },
    {
     "name": "stdout",
     "output_type": "stream",
     "text": [
      "Invalid Number Input for To-Do Operation\n"
     ]
    },
    {
     "name": "stdin",
     "output_type": "stream",
     "text": [
      "Enter Type for To-Do from the following or 0 to again see the operation:  6\n"
     ]
    },
    {
     "name": "stdout",
     "output_type": "stream",
     "text": [
      "To-Do List Exiting!!\n"
     ]
    }
   ],
   "source": [
    "print(\"To Do List!!\")\n",
    "print(\"Type 1 to Add To the List📄\")\n",
    "print(\"Type 2 to View your To Do List👀\")\n",
    "print(\"Type 3 to Delete some particular To-do Work🗑️\")\n",
    "print(\"Type 4 to Mark the completed To's✅\")\n",
    "print(\"Type 5 to Add To the To-Do List➕\")\n",
    "print(\"Type 6 to Exit❌\")\n",
    "while True:\n",
    "    choice=int(input(\"Enter Type for To-Do from the following or 0 to again see the operation: \"))\n",
    "    if choice==0:\n",
    "        print(\"To Do List!!\")\n",
    "        print(\"Type 1 to Add To the List📄\")\n",
    "        print(\"Type 2 to View your To Do List 👀\")\n",
    "        print(\"Type 3 to Delete some particular To-do Work🗑️\")\n",
    "        print(\"Type 4 to Mark the completed To's✅\")\n",
    "        print(\"Type 5 to Add To the To-Do List➕\")\n",
    "        print(\"Type 6 to Exit❌\")\n",
    "    if choice==1:\n",
    "        print(\"...TO-DO LIST...\")\n",
    "        with open(\"todo.txt\",'w') as f:\n",
    "            n=int(input(\"Enter the Number of Work you want to Complete: \"))\n",
    "            z=1\n",
    "            for i in range(n):\n",
    "                t=input(f\"Enter To-Do Works {z}: \")\n",
    "                f.write(t+'\\n')\n",
    "                z+=1\n",
    "            print(\"To-Do List Done✅\")\n",
    "            print(\"---------\"*8)\n",
    "    elif choice==2:\n",
    "        with open(\"todo.txt\",'r') as d:\n",
    "            contents=d.readlines()\n",
    "            if not contents:\n",
    "                print(\"Your To Do List is Empty\")\n",
    "            else:\n",
    "                print(\"...TO-DO LIST...\")\n",
    "                for no,con in enumerate(contents,1):\n",
    "                    print(f\"{no}.{con.strip()}\")\n",
    "                    print(\"---------\"*8)\n",
    "    elif choice==3:\n",
    "        with open(\"todo.txt\",'r') as m:\n",
    "            contents=m.readlines()\n",
    "        delete_line=int(input(\"Enter the Line of Todo to delete: \"))\n",
    "        with open(\"todo.txt\",'w') as d:\n",
    "            for i,ele in enumerate(contents,1):\n",
    "                if i!=delete_line:\n",
    "                    d.write(ele)\n",
    "        with open(\"todo.txt\",'r') as s:\n",
    "            contents=s.readlines()\n",
    "            print(\"Your CURRENT TO-DO LIST...\")\n",
    "            for ind,ele in enumerate(contents,1):\n",
    "                print(f\"{ind}.{ele.strip()}\")\n",
    "                print(\"---------\"*8)\n",
    "    elif choice==4:\n",
    "        with open('todo.txt','r') as d:\n",
    "            conten=d.readlines()\n",
    "        completed=int(input(\"Enter the Completed To-Do: \"))\n",
    "        with open(\"todo.txt\",'w') as q:\n",
    "            for indexx,word in enumerate(conten,1):\n",
    "                if indexx==completed:\n",
    "                    completed_task=f'{word}'\n",
    "                    print(\"Completed Task:✅ \")\n",
    "                    print(completed_task)\n",
    "                if indexx!=completed:\n",
    "                    q.write(word)\n",
    "        print(\"Remaining List: \")\n",
    "        with open(\"todo.txt\",'r') as l:\n",
    "            contentsss=l.readlines()\n",
    "            for indd,elee in enumerate(contentsss,1):\n",
    "                print(f\"{indd}.{elee.strip()}\")\n",
    "                print(\"---------\"*8)\n",
    "    elif choice==5:\n",
    "        ww=1\n",
    "        with open(\"todo.txt\",'a') as zz:\n",
    "            ed=int(input(\"Enter the Number of To-Do You want to ADD: \"))\n",
    "            for nummb in range(ed):\n",
    "                todooo=input(f\"Enter the To do {ww}: \")\n",
    "                ww+=1\n",
    "                zz.write(todooo+'\\n')\n",
    "        with open(\"todo.txt\",'r') as qw:\n",
    "            for dg,bn in enumerate(qw,1):\n",
    "                print(f'{dg}.{bn.strip()}')\n",
    "                print(\"---------\"*8)\n",
    "    elif choice==6:\n",
    "        print('To-Do List Exiting!!')\n",
    "        break\n",
    "    else:\n",
    "        print(\"Invalid Number Input for To-Do Operation\")"
   ]
  }
 ],
 "metadata": {
  "kernelspec": {
   "display_name": "Python 3 (ipykernel)",
   "language": "python",
   "name": "python3"
  },
  "language_info": {
   "codemirror_mode": {
    "name": "ipython",
    "version": 3
   },
   "file_extension": ".py",
   "mimetype": "text/x-python",
   "name": "python",
   "nbconvert_exporter": "python",
   "pygments_lexer": "ipython3",
   "version": "3.13.5"
  }
 },
 "nbformat": 4,
 "nbformat_minor": 5
}
